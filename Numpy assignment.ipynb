{
 "cells": [
  {
   "cell_type": "markdown",
   "id": "7846ce6e-a60b-40cb-91bd-c5192f674ac0",
   "metadata": {},
   "source": [
    "1. Explain the purpose and advantages of NumPy in scientific computing and data analysis. How does it enhance Python's capabilities for numerical operations?"
   ]
  },
  {
   "cell_type": "code",
   "execution_count": 2,
   "id": "5a827895-d564-4b47-b86a-0f4404979024",
   "metadata": {},
   "outputs": [],
   "source": [
    "#Numpy stored the data in a numpy array\n",
    "#An array is a container/data structure used to store data of some data type>> homogenous\n",
    "#numpy is built using C >> Numpy computation is fast\n",
    "#due to array >> since it stores only homogenous data, numpy array is faster\n",
    "#since it stores homogeous data>> contiguous/continuous memory location\n",
    "#mathematical computation is fast\n",
    "#Advantage of Numpy :NumPy is ideal for handling large amounts of homogeneous (same-type) data,\n",
    "#offering significant improvements in speed and memory efficiency. It also provides high-level syntax for a wide range of numerical operations,\n",
    "#making it a powerful tool for scientific computing and data processing on the CPU."
   ]
  },
  {
   "cell_type": "markdown",
   "id": "03dcbff7-c625-4029-8849-38536fdb0f9f",
   "metadata": {},
   "source": [
    " 2. Compare and contrast np.mean() and np.average() functions in NumPy. When would you use one over the \n",
    "other?"
   ]
  },
  {
   "cell_type": "code",
   "execution_count": 1,
   "id": "23a07255-b41c-4615-92df-af82994eac3e",
   "metadata": {},
   "outputs": [],
   "source": [
    "#In NumPy, both np.mean() and np.average() are used to calculate the average of an array, but they differ in their functionality.\n",
    "\n",
    "#np.mean()\n",
    "#Purpose: Computes the arithmetic mean (average) along the specified axis.\n",
    "#np.mean()\n",
    "#It simply calculates the mean by summing up all the values and dividing by the number of elements. \n",
    "#There is no provision for weighted means.\n",
    "\n",
    "#np.average()\n",
    "#Purpose: Computes the weighted average along the specified axis.\n",
    "# Use np.average() when you need to compute a weighted average, \n",
    "#or when you want the mean with an option to return the sum of weights.\n",
    "\n",
    "\n",
    "\n",
    "#When to Use\n",
    "#Use np.mean() when you need a simple average without considering any weights.\n",
    "#Use np.average() when you need to calculate a weighted average or want to handle both the mean and the sum of weights in one function."
   ]
  },
  {
   "cell_type": "markdown",
   "id": "39412ccc-3c45-4a3e-a161-aa88257d4a83",
   "metadata": {},
   "source": [
    " 3. Describe the methods for reversing a NumPy array along different axes. Provide examples for 1D and 2D \n",
    "arrays."
   ]
  },
  {
   "cell_type": "code",
   "execution_count": 2,
   "id": "05678235-0144-439c-b501-4e157b41a522",
   "metadata": {},
   "outputs": [
    {
     "name": "stdout",
     "output_type": "stream",
     "text": [
      "[5 4 3 2 1]\n"
     ]
    }
   ],
   "source": [
    "#Reversing a NumPy array along different axes can be done using various methods\n",
    "\n",
    "#1D Array\n",
    "#Slicing\n",
    "import numpy as np\n",
    "\n",
    "arr = np.array([1, 2, 3, 4, 5])\n",
    "reversed_arr = arr[::-1]\n",
    "print(reversed_arr)"
   ]
  },
  {
   "cell_type": "code",
   "execution_count": 3,
   "id": "7133f10d-8649-4c66-aeae-e8bfc5623f50",
   "metadata": {},
   "outputs": [
    {
     "name": "stdout",
     "output_type": "stream",
     "text": [
      "[5 4 3 2 1]\n"
     ]
    }
   ],
   "source": [
    "#np.flip()\n",
    "reversed_arr = np.flip(arr)\n",
    "print(reversed_arr)"
   ]
  },
  {
   "cell_type": "code",
   "execution_count": 4,
   "id": "088a542c-6f7a-4979-b72a-2e18f814e639",
   "metadata": {},
   "outputs": [
    {
     "name": "stdout",
     "output_type": "stream",
     "text": [
      "[[7 8 9]\n",
      " [4 5 6]\n",
      " [1 2 3]]\n"
     ]
    }
   ],
   "source": [
    "#2D Array\n",
    "#slicing\n",
    "#Reverse along rows (axis 0):\n",
    "arr_2d = np.array([[1, 2, 3], [4, 5, 6], [7, 8, 9]])\n",
    "reversed_rows = arr_2d[::-1, :]\n",
    "print(reversed_rows)"
   ]
  },
  {
   "cell_type": "code",
   "execution_count": 5,
   "id": "26e689fb-b1ee-4063-94a8-1d5a22aff25d",
   "metadata": {},
   "outputs": [
    {
     "name": "stdout",
     "output_type": "stream",
     "text": [
      "[[3 2 1]\n",
      " [6 5 4]\n",
      " [9 8 7]]\n"
     ]
    }
   ],
   "source": [
    "#Reverse along columns (axis 1):\n",
    "reversed_columns = arr_2d[:, ::-1]\n",
    "print(reversed_columns)"
   ]
  },
  {
   "cell_type": "code",
   "execution_count": 6,
   "id": "fead453a-766c-44d9-9b3c-d1d632aa8cfb",
   "metadata": {},
   "outputs": [
    {
     "name": "stdout",
     "output_type": "stream",
     "text": [
      "[[9 8 7]\n",
      " [6 5 4]\n",
      " [3 2 1]]\n"
     ]
    }
   ],
   "source": [
    "#Reverse both axes:\n",
    "reversed_both = arr_2d[::-1, ::-1]\n",
    "print(reversed_both)"
   ]
  },
  {
   "cell_type": "code",
   "execution_count": 7,
   "id": "66667355-d3df-41a3-b72d-4507f4f4a5db",
   "metadata": {},
   "outputs": [
    {
     "name": "stdout",
     "output_type": "stream",
     "text": [
      "[[7 8 9]\n",
      " [4 5 6]\n",
      " [1 2 3]]\n"
     ]
    }
   ],
   "source": [
    "#np.flip()\n",
    "#Reverse along rows (axis 0):\n",
    "reversed_rows = np.flip(arr_2d, axis=0)\n",
    "print(reversed_rows)"
   ]
  },
  {
   "cell_type": "code",
   "execution_count": 8,
   "id": "ac49de17-40cd-4e39-a4fa-9ae5b354a4a1",
   "metadata": {},
   "outputs": [
    {
     "name": "stdout",
     "output_type": "stream",
     "text": [
      "[[3 2 1]\n",
      " [6 5 4]\n",
      " [9 8 7]]\n"
     ]
    }
   ],
   "source": [
    "#Reverse along columns (axis 1):\n",
    "reversed_columns = np.flip(arr_2d, axis=1)\n",
    "print(reversed_columns)"
   ]
  },
  {
   "cell_type": "code",
   "execution_count": 9,
   "id": "6f6c6f21-d60d-4471-a51f-1030baf002f8",
   "metadata": {},
   "outputs": [
    {
     "name": "stdout",
     "output_type": "stream",
     "text": [
      "[[9 8 7]\n",
      " [6 5 4]\n",
      " [3 2 1]]\n"
     ]
    }
   ],
   "source": [
    "#Reverse both axes:\n",
    "reversed_both = np.flip(arr_2d)\n",
    "print(reversed_both)"
   ]
  },
  {
   "cell_type": "markdown",
   "id": "e4e41a1f-24e1-47ce-af9f-2209e4e5fb9d",
   "metadata": {},
   "source": [
    " 4. How can you determine the data type of elements in a NumPy array? Discuss the importance of data types \n",
    "in memory management and performance"
   ]
  },
  {
   "cell_type": "code",
   "execution_count": 10,
   "id": "3a815602-5ba8-4956-aa0e-fcd4ff3a5729",
   "metadata": {},
   "outputs": [],
   "source": [
    "#Use array.dtype to determine the data type of elements in a NumPy array.\n",
    "\n",
    "#importance\n",
    "#Memory Management: Smaller data types use less memory, leading to more efficient memory usage.\n",
    "#Performance: Choosing the right data type can improve computation speed and efficiency in operations."
   ]
  },
  {
   "cell_type": "markdown",
   "id": "44140c28-a89c-4ac3-bd6a-5ff86c17ab75",
   "metadata": {},
   "source": [
    " 5. Define ndarrays in NumPy and explain their key features. How do they differ from standard Python lists?"
   ]
  },
  {
   "cell_type": "code",
   "execution_count": 11,
   "id": "9d1a9f7a-13cb-4f27-a586-2d631b96cd21",
   "metadata": {},
   "outputs": [],
   "source": [
    "#An ndarray (N-dimensional array) is the core data structure in NumPy, representing a multi-dimensional, homogeneous array of fixed-size items.\n",
    "\n",
    "#features>>\n",
    "#N-Dimensional:ndarrays can have any number of dimensions.\n",
    "#All elements in an ndarray have the same data type (dtype).\n",
    "#Once an ndarray is created, its size (the total number of elements) cannot be changed.\n",
    "#crucial for performance, especially in large-scale numerical computations.\n",
    "#support broadcasting\n",
    "#allow for advanced slicing and indexing techniques\n",
    "\n",
    "\n",
    "#ndarrays in NumPy are powerful, multi-dimensional, homogeneous arrays designed for efficient numerical computation. \n",
    "#They differ significantly from Python lists in terms of memory efficiency, performance, and the types of operations they support,\n",
    "#making them a cornerstone of scientific computing in Python."
   ]
  },
  {
   "cell_type": "markdown",
   "id": "1aefa637-42d1-4901-a378-cc66811be5dd",
   "metadata": {},
   "source": [
    " 6. Analyze the performance benefits of NumPy arrays over Python lists for large-scale numerical operations."
   ]
  },
  {
   "cell_type": "code",
   "execution_count": 12,
   "id": "f247e350-ce74-4671-a131-3b65b098f480",
   "metadata": {},
   "outputs": [],
   "source": [
    "#Homogeneous Data Type: NumPy arrays are homogeneous, meaning all elements are of the same data type (dtype). \n",
    "#This allows NumPy to allocate memory more efficiently, using a fixed amount of space for each element. \n",
    "#Python lists, on the other hand, are heterogeneous and store references to objects, leading to additional overhead.\n",
    "\n",
    "#The NumPy operation is significantly faster because it leverages low-level, highly optimized C code for the element-wise operations, \n",
    "#whereas the list operation requires Python to interpret and execute each loop iteration.\n",
    "\n",
    "# Broadcasting allows NumPy to perform operations on arrays of different shapes without explicit replication of data\n",
    "#In Python lists, a similar operation would require explicit looping or the use of list comprehensions, both of which are slower and less efficient.\n",
    "\n",
    "# NumPy allows for advanced slicing and indexing techniques\n",
    "#Python lists require copying data when slicing, which is slower and less memory efficient.\n"
   ]
  },
  {
   "cell_type": "markdown",
   "id": "bb988c52-9189-4b99-b016-6480fdd52a72",
   "metadata": {},
   "source": [
    " 7. Compare vstack() and hstack() functions in NumPy. Provide examples demonstrating their usage and \n",
    "output"
   ]
  },
  {
   "cell_type": "code",
   "execution_count": 13,
   "id": "1f37986f-d0b9-4a1b-b204-7bf3189f1347",
   "metadata": {},
   "outputs": [
    {
     "name": "stdout",
     "output_type": "stream",
     "text": [
      "[[1 2 3]\n",
      " [4 5 6]]\n"
     ]
    }
   ],
   "source": [
    "#vstack(): \n",
    "#Concatenates arrays along the vertical axis (axis 0, row-wise).\n",
    "#Arrays must have the same number of columns.\n",
    "\n",
    "\n",
    "arr1 = np.array([1, 2, 3])\n",
    "arr2 = np.array([4, 5, 6])\n",
    "result = np.vstack((arr1, arr2))\n",
    "print(result)\n"
   ]
  },
  {
   "cell_type": "code",
   "execution_count": 14,
   "id": "fec9fcfc-0c23-4f95-adc6-db26e466c94d",
   "metadata": {},
   "outputs": [
    {
     "name": "stdout",
     "output_type": "stream",
     "text": [
      "[1 2 3 4 5 6]\n"
     ]
    }
   ],
   "source": [
    "#hstack(): \n",
    "#Concatenates arrays along the horizontal axis (axis 1, column-wise).\n",
    "#Arrays must have the same number of rows.\n",
    "\n",
    "arr1 = np.array([1, 2, 3])\n",
    "arr2 = np.array([4, 5, 6])\n",
    "result = np.hstack((arr1, arr2))\n",
    "print(result)"
   ]
  },
  {
   "cell_type": "markdown",
   "id": "22f9e2ac-8b17-4e6c-ab0e-e6eec8879f4e",
   "metadata": {},
   "source": [
    " 8. Explain the differences between fliplr() and flipud() methods in NumPy, including their effects on various \n",
    "array dimensions"
   ]
  },
  {
   "cell_type": "code",
   "execution_count": 15,
   "id": "94b7c120-43b2-407a-ac49-af6b82f4daf7",
   "metadata": {},
   "outputs": [],
   "source": [
    "#fliplr(): Reverses the order of elements along the horizontal axis (columns).\n",
    "#flipud(): Reverses the order of elements along the vertical axis (rows).\n",
    "\n",
    "#Effect on 2D Arrays:\n",
    "#fliplr(): Flips the array left to right, changing the order of columns.\n",
    "#flipud(): Flips the array up to down, changing the order of rows.\n",
    "\n",
    "#Effect on Higher-Dimensional Arrays:\n",
    "#fliplr(): Operates on the last axis, flipping columns within each 2D slice.\n",
    "#flipud(): Operates on the first axis, flipping rows within each 2D slice."
   ]
  },
  {
   "cell_type": "markdown",
   "id": "b0b79da4-ce62-4679-abf2-e36a3e5b215b",
   "metadata": {},
   "source": [
    " 9. Discuss the functionality of the array_split() method in NumPy. How does it handle uneven splits?"
   ]
  },
  {
   "cell_type": "code",
   "execution_count": 16,
   "id": "61c80a0c-9aab-464e-a03b-e1b527f4c9e7",
   "metadata": {},
   "outputs": [
    {
     "name": "stdout",
     "output_type": "stream",
     "text": [
      "[array([0, 1, 2, 3]), array([4, 5, 6]), array([7, 8, 9])]\n"
     ]
    }
   ],
   "source": [
    "#array_split() function in NumPy>> used to split an array into multiple sub-arrays.\n",
    "#useful when dealing with tasks where you need to partition data into chunks of roughly equal size.\n",
    "\n",
    "#Uneven Splits: \n",
    "#When the array size is not evenly divisible by the number of sections, \n",
    "#array_split() will create sub-arrays where some sub-arrays may have more elements than others.\n",
    "\n",
    "arr = np.arange(10)\n",
    "result = np.array_split(arr, 3)\n",
    "print(result)"
   ]
  },
  {
   "cell_type": "markdown",
   "id": "94ab066b-391a-4ad8-a069-e0ab26be9c46",
   "metadata": {},
   "source": [
    " 10. Explain the concepts of vectorization and broadcasting in NumPy. How do they contribute to efficient array \n",
    "operations?"
   ]
  },
  {
   "cell_type": "code",
   "execution_count": 17,
   "id": "58da35f7-0626-45f8-8aa2-656826595e24",
   "metadata": {},
   "outputs": [],
   "source": [
    "#Vectorization >>\n",
    "#refers to the process of applying operations to entire arrays (or large blocks of data) at once, \n",
    "#rather than iterating through individual elements with explicit loops.\n",
    "#Efficiency: Vectorization leverages low-level optimizations and parallelism provided by the underlying libraries (such as BLAS, LAPACK) and the CPU.\n",
    "\n",
    "#Broadcasting >>\n",
    "#refers to the ability of NumPy to perform element-wise operations on arrays of different shapes, \n",
    "#by automatically \"expanding\" the smaller array(s) to match the shape of the larger one(s).\n",
    "#Efficiency: saves memory and reduces computational overhead"
   ]
  },
  {
   "cell_type": "code",
   "execution_count": null,
   "id": "c4077f8e-00b9-476a-8112-195d4313756e",
   "metadata": {},
   "outputs": [],
   "source": []
  },
  {
   "cell_type": "code",
   "execution_count": null,
   "id": "b371c901-a7c3-43c5-b238-de0eabf4e4b4",
   "metadata": {},
   "outputs": [],
   "source": []
  },
  {
   "cell_type": "markdown",
   "id": "83d8abb3-b9ae-4850-8b87-44f17a3cc99b",
   "metadata": {},
   "source": [
    "PRACTICAL QUESTIONS:"
   ]
  },
  {
   "cell_type": "markdown",
   "id": "a5219c34-b38a-4e0c-96e0-f36ea2a91484",
   "metadata": {},
   "source": [
    " 1. Create a 3x3 NumPy array with random integers between 1 and 100. Then, interchange its rows and columns."
   ]
  },
  {
   "cell_type": "code",
   "execution_count": 1,
   "id": "100ae65e-14e1-4067-977c-72fd4a919ed5",
   "metadata": {},
   "outputs": [],
   "source": [
    "import numpy as np"
   ]
  },
  {
   "cell_type": "code",
   "execution_count": 2,
   "id": "4d81e8fa-6f24-46b2-9098-a537da5fceb5",
   "metadata": {},
   "outputs": [],
   "source": [
    "arr = np.random.randint(1,101,size=(3,3))"
   ]
  },
  {
   "cell_type": "code",
   "execution_count": 4,
   "id": "bac3ae37-5673-48dd-8a74-30cfdf7e551e",
   "metadata": {},
   "outputs": [
    {
     "name": "stdout",
     "output_type": "stream",
     "text": [
      "[[16 54 92]\n",
      " [36 13 71]\n",
      " [13 46  7]]\n"
     ]
    }
   ],
   "source": [
    "print(arr)"
   ]
  },
  {
   "cell_type": "code",
   "execution_count": 6,
   "id": "16dd145b-b967-41ef-bafa-a19751a2cf61",
   "metadata": {},
   "outputs": [
    {
     "data": {
      "text/plain": [
       "array([[16, 36, 13],\n",
       "       [54, 13, 46],\n",
       "       [92, 71,  7]])"
      ]
     },
     "execution_count": 6,
     "metadata": {},
     "output_type": "execute_result"
    }
   ],
   "source": [
    "arr.T  #interchange its rows and columns"
   ]
  },
  {
   "cell_type": "code",
   "execution_count": null,
   "id": "dd4b529f-47bd-4a9a-8fbc-2b3211e2255d",
   "metadata": {},
   "outputs": [],
   "source": []
  },
  {
   "cell_type": "markdown",
   "id": "bc74ddc1-52d3-4088-a588-ca9f9844bc42",
   "metadata": {},
   "source": [
    " 2. Generate a 1D NumPy array with 10 elements. Reshape it into a 2x5 array, then into a 5x2 array."
   ]
  },
  {
   "cell_type": "code",
   "execution_count": 7,
   "id": "5a4aa221-a3a0-4bc5-a077-27446fc2f7c7",
   "metadata": {},
   "outputs": [
    {
     "name": "stdout",
     "output_type": "stream",
     "text": [
      "[0 1 2 3 4 5 6 7 8 9]\n"
     ]
    }
   ],
   "source": [
    "ar = np.arange(10)\n",
    "print(ar)"
   ]
  },
  {
   "cell_type": "code",
   "execution_count": 8,
   "id": "4b0d8b68-8c9e-484e-bc56-eaa47b0bd42e",
   "metadata": {},
   "outputs": [
    {
     "name": "stdout",
     "output_type": "stream",
     "text": [
      "[[0 1 2 3 4]\n",
      " [5 6 7 8 9]]\n"
     ]
    }
   ],
   "source": [
    "ar_2x5 = ar.reshape(2,5)\n",
    "print(ar_2x5)"
   ]
  },
  {
   "cell_type": "code",
   "execution_count": 9,
   "id": "b62fd1cd-6aef-47ff-9cbc-0f76750b7af6",
   "metadata": {},
   "outputs": [
    {
     "name": "stdout",
     "output_type": "stream",
     "text": [
      "[[0 1]\n",
      " [2 3]\n",
      " [4 5]\n",
      " [6 7]\n",
      " [8 9]]\n"
     ]
    }
   ],
   "source": [
    "ar_5x2 = ar_2x5.reshape(5,2)\n",
    "print(ar_5x2)"
   ]
  },
  {
   "cell_type": "code",
   "execution_count": null,
   "id": "f7fc01a2-84f8-4028-8c80-89a2f09f43d5",
   "metadata": {},
   "outputs": [],
   "source": []
  },
  {
   "cell_type": "markdown",
   "id": "cba05c9d-ee62-4540-b414-434e9a13cf0e",
   "metadata": {},
   "source": [
    " 3. Create a 4x4 NumPy array with random float values. Add a border of zeros around it, resulting in a 6x6 array."
   ]
  },
  {
   "cell_type": "code",
   "execution_count": 14,
   "id": "30cb9c2a-8c87-41be-8ba1-4c2799593309",
   "metadata": {},
   "outputs": [
    {
     "name": "stdout",
     "output_type": "stream",
     "text": [
      "[[0.67751312 0.28933855 0.43298684 0.48354142]\n",
      " [0.64369692 0.44381683 0.66665097 0.01646736]\n",
      " [0.47488846 0.23251292 0.2944768  0.36719243]\n",
      " [0.15497259 0.56050305 0.29542551 0.42555511]]\n"
     ]
    }
   ],
   "source": [
    "arr1 = np.random.random((4,4))\n",
    "print(arr1)"
   ]
  },
  {
   "cell_type": "code",
   "execution_count": 15,
   "id": "005cfa75-180c-4615-a504-cc9f88022e86",
   "metadata": {},
   "outputs": [
    {
     "name": "stdout",
     "output_type": "stream",
     "text": [
      "[[0.         0.         0.         0.         0.         0.        ]\n",
      " [0.         0.67751312 0.28933855 0.43298684 0.48354142 0.        ]\n",
      " [0.         0.64369692 0.44381683 0.66665097 0.01646736 0.        ]\n",
      " [0.         0.47488846 0.23251292 0.2944768  0.36719243 0.        ]\n",
      " [0.         0.15497259 0.56050305 0.29542551 0.42555511 0.        ]\n",
      " [0.         0.         0.         0.         0.         0.        ]]\n"
     ]
    }
   ],
   "source": [
    "arr2 = np.pad(arr1, pad_width=1, mode='constant', constant_values=0)\n",
    "print(arr2) "
   ]
  },
  {
   "cell_type": "code",
   "execution_count": null,
   "id": "2d4e9950-d670-4eef-8e59-310807245a1e",
   "metadata": {},
   "outputs": [],
   "source": []
  },
  {
   "cell_type": "markdown",
   "id": "97f23e5f-8c86-41c6-8f88-4b75e9257fcd",
   "metadata": {},
   "source": [
    " 4. Using NumPy, create an array of integers from 10 to 60 with a step of 5."
   ]
  },
  {
   "cell_type": "code",
   "execution_count": 16,
   "id": "286b6a1f-e614-4766-b20e-c405fea0f21d",
   "metadata": {},
   "outputs": [
    {
     "name": "stdout",
     "output_type": "stream",
     "text": [
      "[10 15 20 25 30 35 40 45 50 55 60]\n"
     ]
    }
   ],
   "source": [
    "array = np.arange(10,61,5)\n",
    "print(array)"
   ]
  },
  {
   "cell_type": "code",
   "execution_count": null,
   "id": "a2f0cda3-32a5-473e-af8c-76167ea6d046",
   "metadata": {},
   "outputs": [],
   "source": []
  },
  {
   "cell_type": "markdown",
   "id": "b87ffc1b-9d11-4071-a204-ade6771c20bf",
   "metadata": {},
   "source": [
    " 5. Create a NumPy array of strings ['python', 'numpy', 'pandas']. Apply different case transformations \n",
    "(uppercase, lowercase, title case, etc.) to each element."
   ]
  },
  {
   "cell_type": "code",
   "execution_count": 17,
   "id": "192697b0-3211-4229-b854-91efde48abae",
   "metadata": {},
   "outputs": [
    {
     "name": "stdout",
     "output_type": "stream",
     "text": [
      "['pandas' 'numpy' 'pandas']\n"
     ]
    }
   ],
   "source": [
    "array = np.array(['pandas','numpy','pandas'])\n",
    "print(array)"
   ]
  },
  {
   "cell_type": "code",
   "execution_count": 18,
   "id": "afd11e58-6be5-4c21-acd6-86dff16efe5b",
   "metadata": {},
   "outputs": [
    {
     "name": "stdout",
     "output_type": "stream",
     "text": [
      "['PANDAS' 'NUMPY' 'PANDAS']\n"
     ]
    }
   ],
   "source": [
    "up_arr = np.char.upper(array)\n",
    "print(up_arr)"
   ]
  },
  {
   "cell_type": "code",
   "execution_count": 19,
   "id": "cf4c6e07-47d0-464c-8f89-2c1dbf6f0451",
   "metadata": {},
   "outputs": [
    {
     "name": "stdout",
     "output_type": "stream",
     "text": [
      "['pandas' 'numpy' 'pandas']\n"
     ]
    }
   ],
   "source": [
    "lw_ar = np.char.lower(array)\n",
    "print(lw_ar)"
   ]
  },
  {
   "cell_type": "code",
   "execution_count": 21,
   "id": "6761e9aa-846d-4e2d-9951-e0e56996938c",
   "metadata": {},
   "outputs": [
    {
     "name": "stdout",
     "output_type": "stream",
     "text": [
      "['Pandas' 'Numpy' 'Pandas']\n"
     ]
    }
   ],
   "source": [
    "tl_ar = np.char.title(array)\n",
    "print(tl_ar)"
   ]
  },
  {
   "cell_type": "code",
   "execution_count": 22,
   "id": "d6b29c0f-0763-459b-9e57-1d15fe13074d",
   "metadata": {},
   "outputs": [
    {
     "name": "stdout",
     "output_type": "stream",
     "text": [
      "['Pandas' 'Numpy' 'Pandas']\n"
     ]
    }
   ],
   "source": [
    "cp_ar = np.char.capitalize(array)\n",
    "print(cp_ar)"
   ]
  },
  {
   "cell_type": "code",
   "execution_count": 23,
   "id": "d0db6b83-f1cc-4c19-a053-879192f62550",
   "metadata": {},
   "outputs": [
    {
     "name": "stdout",
     "output_type": "stream",
     "text": [
      "['PANDAS' 'NUMPY' 'PANDAS']\n"
     ]
    }
   ],
   "source": [
    "sp_ar = np.char.swapcase(array)\n",
    "print(sp_ar)"
   ]
  },
  {
   "cell_type": "code",
   "execution_count": null,
   "id": "16f35ed2-16d7-4f7c-a2a5-9e130c8b2fa8",
   "metadata": {},
   "outputs": [],
   "source": []
  },
  {
   "cell_type": "markdown",
   "id": "352949e4-5681-48bf-853d-671616b0155b",
   "metadata": {},
   "source": [
    " 6. Generate a NumPy array of words. Insert a space between each character of every word in the array."
   ]
  },
  {
   "cell_type": "code",
   "execution_count": 28,
   "id": "f10e3c12-a5a7-4aac-8808-63ec772f0d14",
   "metadata": {},
   "outputs": [
    {
     "name": "stdout",
     "output_type": "stream",
     "text": [
      "['A a d a r s h' 'H i t e s h' 'G a u r a v' 'K a r a n' 'R i t e s h']\n"
     ]
    }
   ],
   "source": [
    "wd = np.array(['Aadarsh','Hitesh','Gaurav','Karan','Ritesh'])\n",
    "\n",
    "def insert_spaces(word):\n",
    "    return ' '.join(word)\n",
    "\n",
    "spacearray = np.vectorize(insert_spaces)(wd)\n",
    "print(spacearray)"
   ]
  },
  {
   "cell_type": "code",
   "execution_count": null,
   "id": "18c25ff2-5f3c-4dc5-8ca8-1730d4c95649",
   "metadata": {},
   "outputs": [],
   "source": []
  },
  {
   "cell_type": "markdown",
   "id": "cdf59f96-51ce-462e-b47f-f4f4a61e7194",
   "metadata": {},
   "source": [
    " 7. Create two 2D NumPy arrays and perform element-wise addition, subtraction, multiplication, and division"
   ]
  },
  {
   "cell_type": "code",
   "execution_count": 32,
   "id": "763de716-2b32-4c95-8f60-ffc47c6b0370",
   "metadata": {},
   "outputs": [
    {
     "name": "stdout",
     "output_type": "stream",
     "text": [
      "[[1 2 3]\n",
      " [4 5 6]]\n",
      "[[ 7  8  9]\n",
      " [10 11 12]]\n"
     ]
    }
   ],
   "source": [
    "a = np.array([[1, 2, 3], [4, 5, 6]])\n",
    "print(a)\n",
    "b = np.array([[7, 8, 9], [10, 11, 12]])\n",
    "print(b)"
   ]
  },
  {
   "cell_type": "code",
   "execution_count": 33,
   "id": "3a8a4ff4-761c-4354-9432-8a5aca6111d2",
   "metadata": {},
   "outputs": [
    {
     "name": "stdout",
     "output_type": "stream",
     "text": [
      "[[ 8 10 12]\n",
      " [14 16 18]]\n"
     ]
    }
   ],
   "source": [
    "#addition\n",
    "print(a+b)"
   ]
  },
  {
   "cell_type": "code",
   "execution_count": 34,
   "id": "22ab2270-9824-4c44-9558-68148b4921af",
   "metadata": {},
   "outputs": [
    {
     "name": "stdout",
     "output_type": "stream",
     "text": [
      "[[-6 -6 -6]\n",
      " [-6 -6 -6]]\n"
     ]
    }
   ],
   "source": [
    "#substraction\n",
    "print(a-b)"
   ]
  },
  {
   "cell_type": "code",
   "execution_count": 35,
   "id": "228774f8-bb43-4d45-9a36-55a1ce653369",
   "metadata": {},
   "outputs": [
    {
     "name": "stdout",
     "output_type": "stream",
     "text": [
      "[[ 7 16 27]\n",
      " [40 55 72]]\n"
     ]
    }
   ],
   "source": [
    "#multiplication\n",
    "print(a*b)"
   ]
  },
  {
   "cell_type": "code",
   "execution_count": 36,
   "id": "4c5ffd0f-ddcf-4bc4-a70c-cfb5656bd11b",
   "metadata": {},
   "outputs": [
    {
     "name": "stdout",
     "output_type": "stream",
     "text": [
      "[[0.14285714 0.25       0.33333333]\n",
      " [0.4        0.45454545 0.5       ]]\n"
     ]
    }
   ],
   "source": [
    "#division\n",
    "print(a/b)"
   ]
  },
  {
   "cell_type": "code",
   "execution_count": null,
   "id": "bc3aa45e-394c-48d2-a998-e98e4b51aec7",
   "metadata": {},
   "outputs": [],
   "source": []
  },
  {
   "cell_type": "markdown",
   "id": "af746c94-9406-43c6-8bd9-7644e0cdf871",
   "metadata": {},
   "source": [
    " 8. Use NumPy to create a 5x5 identity matrix, then extract its diagonal elements"
   ]
  },
  {
   "cell_type": "code",
   "execution_count": 38,
   "id": "de834bab-6d27-43b0-9280-fcc54f86b3fb",
   "metadata": {},
   "outputs": [
    {
     "name": "stdout",
     "output_type": "stream",
     "text": [
      "[[1. 0. 0. 0. 0.]\n",
      " [0. 1. 0. 0. 0.]\n",
      " [0. 0. 1. 0. 0.]\n",
      " [0. 0. 0. 1. 0.]\n",
      " [0. 0. 0. 0. 1.]]\n"
     ]
    }
   ],
   "source": [
    "id_mx = np.eye(5)\n",
    "print(id_mx)"
   ]
  },
  {
   "cell_type": "code",
   "execution_count": 39,
   "id": "7a11d07a-1b1c-4336-9514-63ef73773136",
   "metadata": {},
   "outputs": [
    {
     "name": "stdout",
     "output_type": "stream",
     "text": [
      "[1. 1. 1. 1. 1.]\n"
     ]
    }
   ],
   "source": [
    "dg_element = np.diag(id_mx)\n",
    "print(dg_element)"
   ]
  },
  {
   "cell_type": "code",
   "execution_count": null,
   "id": "66882252-a6e7-41c7-80cc-b7aa485fa8a7",
   "metadata": {},
   "outputs": [],
   "source": []
  },
  {
   "cell_type": "markdown",
   "id": "50f1fcf1-fc38-4be8-8b99-f43abd1acf99",
   "metadata": {},
   "source": [
    " 9. Generate a NumPy array of 100 random integers between 0 and 1000. Find and display all prime numbers in \n",
    "this array."
   ]
  },
  {
   "cell_type": "code",
   "execution_count": 41,
   "id": "bd621acf-8fb2-4d75-a2eb-07b67cc31b4d",
   "metadata": {},
   "outputs": [],
   "source": [
    "def is_prime(n):\n",
    "    if n <= 1:\n",
    "        return False\n",
    "    if n <= 3:\n",
    "        return True\n",
    "    if n % 2 == 0 or n % 3 == 0:\n",
    "        return False\n",
    "    i = 5\n",
    "    while i * i <= n:\n",
    "        if n % i == 0 or n % (i + 2) == 0:\n",
    "            return False\n",
    "        i += 6\n",
    "    return True"
   ]
  },
  {
   "cell_type": "code",
   "execution_count": 42,
   "id": "98738015-5e89-4260-97e6-5c7b2bcca0d0",
   "metadata": {},
   "outputs": [
    {
     "name": "stdout",
     "output_type": "stream",
     "text": [
      "[635 978 852 368 554 360 826 914 630  30 108 233 714 760 353  14 528 997\n",
      " 721 918 579 464 858 660 881 795 926 458 823 142 506  82 524 643 936 784\n",
      " 682 900 131 204 225 486 573 529 286 562 332 281 661 231 605 268   1 108\n",
      " 525 483 627 267 748 509 384 689  30 564 158 494 254 499 513 703 771 888\n",
      "  80 936 128 677 898 498 541 312  15 581   3 127 911 905 942 460 246 449\n",
      " 718 966 594 951 619 392 882 390 625 903]\n"
     ]
    }
   ],
   "source": [
    "arr = np.random.randint(1,1001,size=100)\n",
    "print(arr)"
   ]
  },
  {
   "cell_type": "code",
   "execution_count": 43,
   "id": "5d65ba8f-322e-439a-b4cf-34e28b509089",
   "metadata": {},
   "outputs": [
    {
     "name": "stdout",
     "output_type": "stream",
     "text": [
      "[233 353 997 881 823 643 131 281 661 509 499 677 541   3 127 911 449 619]\n"
     ]
    }
   ],
   "source": [
    "prime_numbers = np.array([num for num in arr if is_prime(num)])\n",
    "print(prime_numbers)"
   ]
  },
  {
   "cell_type": "code",
   "execution_count": null,
   "id": "cf5ff5a8-800e-4f40-b844-b00b02863867",
   "metadata": {},
   "outputs": [],
   "source": []
  },
  {
   "cell_type": "markdown",
   "id": "3755c00c-6871-47c9-b448-878ceec27499",
   "metadata": {},
   "source": [
    " 10. Create a NumPy array representing daily temperatures for a month. Calculate and display the weekly \n",
    "averages"
   ]
  },
  {
   "cell_type": "code",
   "execution_count": 62,
   "id": "e219237b-6e21-4bab-97df-4b56b9494722",
   "metadata": {},
   "outputs": [
    {
     "ename": "ValueError",
     "evalue": "cannot reshape array of size 30 into shape (4,7)",
     "output_type": "error",
     "traceback": [
      "\u001b[0;31m---------------------------------------------------------------------------\u001b[0m",
      "\u001b[0;31mValueError\u001b[0m                                Traceback (most recent call last)",
      "Cell \u001b[0;32mIn[62], line 3\u001b[0m\n\u001b[1;32m      1\u001b[0m daily_temperatures \u001b[38;5;241m=\u001b[39m np\u001b[38;5;241m.\u001b[39mrandom\u001b[38;5;241m.\u001b[39mrandint(\u001b[38;5;241m0\u001b[39m, \u001b[38;5;241m40\u001b[39m, size\u001b[38;5;241m=\u001b[39m\u001b[38;5;241m30\u001b[39m)\n\u001b[0;32m----> 3\u001b[0m weekly_temperatures \u001b[38;5;241m=\u001b[39m \u001b[43mdaily_temperatures\u001b[49m\u001b[38;5;241;43m.\u001b[39;49m\u001b[43mreshape\u001b[49m\u001b[43m(\u001b[49m\u001b[38;5;241;43m4\u001b[39;49m\u001b[43m,\u001b[49m\u001b[43m \u001b[49m\u001b[38;5;241;43m7\u001b[39;49m\u001b[43m)\u001b[49m\n\u001b[1;32m      5\u001b[0m weekly_averages \u001b[38;5;241m=\u001b[39m np\u001b[38;5;241m.\u001b[39mmean(weekly_temperatures, axis\u001b[38;5;241m=\u001b[39m\u001b[38;5;241m1\u001b[39m)\n\u001b[1;32m      6\u001b[0m \u001b[38;5;28mprint\u001b[39m(weekly_averages)\n",
      "\u001b[0;31mValueError\u001b[0m: cannot reshape array of size 30 into shape (4,7)"
     ]
    }
   ],
   "source": [
    "daily_temperatures = np.random.randint(0, 40, size=30)\n",
    "\n",
    "weekly_temperatures = daily_temperatures.reshape(4, 7)\n",
    "\n",
    "weekly_averages = np.mean(weekly_temperatures, axis=1)\n",
    "print(weekly_averages)"
   ]
  },
  {
   "cell_type": "code",
   "execution_count": null,
   "id": "946312fd-bfdc-4d2c-9d3b-dcf621c37354",
   "metadata": {},
   "outputs": [],
   "source": []
  }
 ],
 "metadata": {
  "kernelspec": {
   "display_name": "Python 3 (ipykernel)",
   "language": "python",
   "name": "python3"
  },
  "language_info": {
   "codemirror_mode": {
    "name": "ipython",
    "version": 3
   },
   "file_extension": ".py",
   "mimetype": "text/x-python",
   "name": "python",
   "nbconvert_exporter": "python",
   "pygments_lexer": "ipython3",
   "version": "3.10.8"
  }
 },
 "nbformat": 4,
 "nbformat_minor": 5
}
